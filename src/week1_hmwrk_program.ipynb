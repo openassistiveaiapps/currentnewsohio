{
 "cells": [
  {
   "cell_type": "code",
   "execution_count": null,
   "id": "be431c29",
   "metadata": {},
   "outputs": [],
   "source": [
    "# Week 1 Mini Project: Predict House Prices Based on Size\n",
    "\n",
    "import numpy as np\n",
    "import matplotlib.pyplot as plt\n",
    "from sklearn.linear_model import LinearRegression\n",
    "\n",
    "# -------------------------------\n",
    "# Step 1: Create the dataset\n",
    "# -------------------------------\n",
    "# X = area in 1000 sq ft, y = price in $1000s\n",
    "X = np.array([[1.0], [1.2], [1.5], [1.7], [2.0], [2.2], [2.5], [2.7], [3.0], [3.2]])\n",
    "y = np.array([150, 180, 200, 220, 250, 270, 300, 320, 350, 370])\n",
    "\n",
    "# -------------------------------\n",
    "# Step 2: Train Linear Regression model\n",
    "# -------------------------------\n",
    "model = LinearRegression()\n",
    "model.fit(X, y)\n",
    "\n",
    "# -------------------------------\n",
    "# Step 3: Predict price for a new house size\n",
    "# -------------------------------\n",
    "new_area = np.array([[2.8]])\n",
    "predicted_price = model.predict(new_area)\n",
    "print(f\"Predicted price for a house of {new_area[0][0]}k sq ft: ${predicted_price[0]:.2f}k\")\n",
    "\n",
    "# -------------------------------\n",
    "# Step 4: Plot the dataset and regression line\n",
    "# -------------------------------\n",
    "plt.scatter(X, y, color='blue', label='Actual Prices')\n",
    "plt.plot(X, model.predict(X), color='red', label='Regression Line')\n",
    "plt.scatter(new_area, predicted_price, color='green', label='Prediction', s=100)\n",
    "plt.title(\"House Price Prediction Based on Size\")\n",
    "plt.xlabel(\"Size (1000 sq ft)\")\n",
    "plt.ylabel(\"Price ($1000s)\")\n",
    "plt.legend()\n",
    "plt.grid(True)\n",
    "plt.show()\n"
   ]
  }
 ],
 "metadata": {
  "language_info": {
   "name": "python"
  }
 },
 "nbformat": 4,
 "nbformat_minor": 5
}
