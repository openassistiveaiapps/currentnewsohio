{
 "cells": [
  {
   "cell_type": "markdown",
   "id": "5e04c19b",
   "metadata": {},
   "source": [
    "# No training required.\n",
    "\n",
    "# Hugging Face gives you access to powerful models instantly.\n",
    "\n",
    "# Used in real-world apps like customer support bots, review analysis, etc."
   ]
  },
  {
   "cell_type": "code",
   "execution_count": 3,
   "id": "b95585e7",
   "metadata": {},
   "outputs": [],
   "source": [
    "!pip install transformers torch --quiet\n",
    "\n",
    "!pip install tf-keras --quiet"
   ]
  },
  {
   "cell_type": "code",
   "execution_count": 7,
   "id": "eb4f9bdf",
   "metadata": {},
   "outputs": [
    {
     "name": "stderr",
     "output_type": "stream",
     "text": [
      "No model was supplied, defaulted to distilbert/distilbert-base-uncased-finetuned-sst-2-english and revision 714eb0f (https://huggingface.co/distilbert/distilbert-base-uncased-finetuned-sst-2-english).\n",
      "Using a pipeline without specifying a model name and revision in production is not recommended.\n",
      "Device set to use mps:0\n"
     ]
    },
    {
     "name": "stdout",
     "output_type": "stream",
     "text": [
      "I love this product, it works perfectly! ➝ POSITIVE (1.00)\n",
      "Worst quality ever, very disappointed. ➝ NEGATIVE (1.00)\n",
      "Absolutely amazing, exceeded my expectations! ➝ POSITIVE (1.00)\n",
      "This is terrible, don’t buy it. ➝ NEGATIVE (1.00)\n",
      "Great quality and fast delivery! ➝ POSITIVE (1.00)\n",
      "Not worth the money at all. ➝ NEGATIVE (1.00)\n",
      "Amazing quality! ➝ POSITIVE (1.00)\n",
      "Not good at all. ➝ POSITIVE (0.98)\n"
     ]
    }
   ],
   "source": [
    "from transformers import pipeline\n",
    "\n",
    "classifier = pipeline(\"sentiment-analysis\")\n",
    "\n",
    "reviews = [\n",
    "    \"I love this product, it works perfectly!\",\n",
    "    \"Worst quality ever, very disappointed.\",\n",
    "    \"Absolutely amazing, exceeded my expectations!\",\n",
    "    \"This is terrible, don’t buy it.\",\n",
    "    \"Great quality and fast delivery!\",\n",
    "    \"Not worth the money at all.\"\n",
    "]\n",
    "\n",
    "for r in reviews:\n",
    "    result = classifier(r)[0]\n",
    "    print(f\"{r} ➝ {result['label']} ({result['score']:.2f})\")\n",
    "\n",
    "# Test\n",
    "test = [\"Amazing quality!\", \"Not good at all.\"]\n",
    "for t in test:\n",
    "    result = classifier(t)[0]\n",
    "    print(f\"{t} ➝ {result['label']} ({result['score']:.2f})\")\n"
   ]
  },
  {
   "cell_type": "markdown",
   "id": "04480edc",
   "metadata": {},
   "source": [
    "🧠 Why “Not good at all” was classified as POSITIVE\n",
    "\n",
    "This model is:\n",
    "\n",
    "Pretrained mostly on movie reviews\n",
    "\n",
    "Tuned for “POSITIVE” vs “NEGATIVE” on short phrases\n",
    "\n",
    "Weak at negation phrases like “not good”\n",
    "\n",
    "Doesn’t understand context as well as modern large models.\n",
    "\n",
    "So:\n",
    "\n",
    "\"Amazing quality!\" → ✅ POSITIVE (1.00)\n",
    "\n",
    "\"Not good at all.\" → ❌ incorrectly POSITIVE because \"good\" dominates the model’s embedding weighting more than \"not\"."
   ]
  },
  {
   "cell_type": "code",
   "execution_count": null,
   "id": "bde89bc4",
   "metadata": {},
   "outputs": [
    {
     "name": "stderr",
     "output_type": "stream",
     "text": [
      "Device set to use mps:0\n"
     ]
    },
    {
     "name": "stdout",
     "output_type": "stream",
     "text": [
      "I love this product, it works perfectly! ➝ LABEL_2 (0.99)\n",
      "Worst quality ever, very disappointed. ➝ LABEL_0 (0.97)\n",
      "Absolutely amazing, exceeded my expectations! ➝ LABEL_2 (0.97)\n",
      "This is terrible, don’t buy it. ➝ LABEL_0 (0.94)\n",
      "Great quality and fast delivery! ➝ LABEL_1 (0.72)\n",
      "Not worth the money at all. ➝ LABEL_0 (0.88)\n",
      "Amazing quality! ➝ LABEL_2 (0.56)\n",
      "Not good at all. ➝ LABEL_1 (0.64)\n"
     ]
    }
   ],
   "source": [
    "# Option 1: Use a better model\n",
    "\n",
    "# Try a more robust sentiment model, e.g. cardiffnlp/twitter-roberta-base-sentiment\n",
    "\n",
    "# This model has 3 labels: positive, neutral, and negative, and handles negation better.\n",
    "\n",
    "from transformers import pipeline\n",
    "\n",
    "classifier = pipeline(\n",
    "    \"sentiment-analysis\",\n",
    "    model=\"cardiffnlp/twitter-roberta-base-sentiment\"\n",
    ")\n",
    "\n",
    "reviews = [\n",
    "    \"I love this product, it works perfectly!\",\n",
    "    \"Worst quality ever, very disappointed.\",\n",
    "    \"Absolutely amazing, exceeded my expectations!\",\n",
    "    \"This is terrible, don’t buy it.\",\n",
    "    \"Great quality and fast delivery!\",\n",
    "    \"Not worth the money at all.\"\n",
    "]\n",
    "\n",
    "for r in reviews:\n",
    "    result = classifier(r)[0]\n",
    "    print(f\"{r} ➝ {result['label']} ({result['score']:.2f})\")\n",
    "\n",
    "# Test\n",
    "test = [\"Amazing quality!\", \"Not good at all.\"]\n",
    "for t in test:\n",
    "    result = classifier(t)[0]\n",
    "    print(f\"{t} ➝ {result['label']} ({result['score']:.2f})\")\n"
   ]
  },
  {
   "cell_type": "code",
   "execution_count": 8,
   "id": "72a5f276",
   "metadata": {},
   "outputs": [
    {
     "name": "stderr",
     "output_type": "stream",
     "text": [
      "huggingface/tokenizers: The current process just got forked, after parallelism has already been used. Disabling parallelism to avoid deadlocks...\n",
      "To disable this warning, you can either:\n",
      "\t- Avoid using `tokenizers` before the fork if possible\n",
      "\t- Explicitly set the environment variable TOKENIZERS_PARALLELISM=(true | false)\n"
     ]
    }
   ],
   "source": [
    "# ✅ Install dependencies (only needed in Colab)\n",
    "!pip install -q transformers torch"
   ]
  },
  {
   "cell_type": "code",
   "execution_count": 9,
   "id": "77a61d3e",
   "metadata": {},
   "outputs": [
    {
     "name": "stderr",
     "output_type": "stream",
     "text": [
      "No model was supplied, defaulted to distilbert/distilbert-base-uncased-finetuned-sst-2-english and revision 714eb0f (https://huggingface.co/distilbert/distilbert-base-uncased-finetuned-sst-2-english).\n",
      "Using a pipeline without specifying a model name and revision in production is not recommended.\n",
      "Device set to use mps:0\n"
     ]
    },
    {
     "name": "stdout",
     "output_type": "stream",
     "text": [
      "Amazing quality! ➝ POSITIVE (1.00)\n",
      "Not good at all. ➝ NEGATIVE (0.91)\n",
      "I absolutely love it! ➝ POSITIVE (1.00)\n",
      "This is terrible. ➝ NEGATIVE (0.99)\n",
      "Not good, I expected better. ➝ POSITIVE (0.92)\n",
      "Awesome product and fast delivery! ➝ POSITIVE (1.00)\n"
     ]
    }
   ],
   "source": [
    "# Option 2: Preprocess the text\n",
    "\n",
    "# Add rules before passing to the model:\n",
    "# Lowercase\n",
    "# Remove noise\n",
    "# Handle negation with a simple rule (e.g., flag sentences with “not”, “never”, etc.)\n",
    "\n",
    "# ✅ Import required libraries\n",
    "from transformers import pipeline\n",
    "\n",
    "# ✅ Load a pre-trained sentiment analysis pipeline\n",
    "classifier = pipeline(\"sentiment-analysis\")\n",
    "\n",
    "# ✅ Example product reviews (you can add more)\n",
    "reviews = [\n",
    "    \"Amazing quality!\",\n",
    "    \"Not good at all.\",\n",
    "    \"I absolutely love it!\",\n",
    "    \"This is terrible.\",\n",
    "    \"Not good, I expected better.\",\n",
    "    \"Awesome product and fast delivery!\"\n",
    "]\n",
    "\n",
    "# ✅ Simple text preprocessing function\n",
    "def preprocess(text):\n",
    "    # Replace common negative phrases to make model more sensitive\n",
    "    return text.lower().replace(\"not good\", \"bad\")\n",
    "\n",
    "# ✅ Classify each review after preprocessing\n",
    "for r in reviews:\n",
    "    cleaned = preprocess(r)\n",
    "    result = classifier(cleaned)[0]\n",
    "    print(f\"{r} ➝ {result['label']} ({result['score']:.2f})\")\n",
    "\n"
   ]
  },
  {
   "cell_type": "markdown",
   "id": "1e04f9e1",
   "metadata": {},
   "source": [
    "What This Does\n",
    "\n",
    "pipeline(\"sentiment-analysis\") uses a pre-trained model (e.g., distilbert-base-uncased-finetuned-sst-2-english) for classifying text into POSITIVE or NEGATIVE.\n",
    "\n",
    "The preprocess function normalizes text and adjusts phrases like “not good” to help the model capture negative sentiment better.\n",
    "\n",
    "It prints the original review along with the predicted label and confidence score."
   ]
  },
  {
   "cell_type": "markdown",
   "id": "4ab3b842",
   "metadata": {},
   "source": [
    "🧠 Why “Not good, I expected better.” got misclassified:\n",
    "\n",
    "Pretrained sentiment models like distilbert-base-uncased-finetuned-sst-2-english are trained mostly on clean, short phrases (e.g., “good”, “bad”, “I love it”).\n",
    "\n",
    "Phrases like “not good, I expected better” have mixed signals:\n",
    "\n",
    "“not good” ➝ negative\n",
    "\n",
    "“expected better” ➝ could be interpreted as neutral or slightly positive in some contexts\n",
    "\n",
    "The model puts more weight on “expected better” and misclassifies it as POSITIVE."
   ]
  },
  {
   "cell_type": "code",
   "execution_count": 10,
   "id": "5e68232b",
   "metadata": {},
   "outputs": [
    {
     "name": "stderr",
     "output_type": "stream",
     "text": [
      "No model was supplied, defaulted to distilbert/distilbert-base-uncased-finetuned-sst-2-english and revision 714eb0f (https://huggingface.co/distilbert/distilbert-base-uncased-finetuned-sst-2-english).\n",
      "Using a pipeline without specifying a model name and revision in production is not recommended.\n",
      "Device set to use mps:0\n"
     ]
    },
    {
     "name": "stdout",
     "output_type": "stream",
     "text": [
      "Amazing quality! ➝ POSITIVE (1.00)\n",
      "Not good at all. ➝ NEGATIVE (0.91)\n",
      "I absolutely love it! ➝ POSITIVE (1.00)\n",
      "This is terrible. ➝ NEGATIVE (0.99)\n",
      "Not good, I expected better. ➝ NEGATIVE (0.93)\n",
      "Awesome product and fast delivery! ➝ POSITIVE (1.00)\n"
     ]
    }
   ],
   "source": [
    "# Option 3: Preprocess the text in a more advanced way\n",
    "\n",
    "# Add rules before passing to the model:\n",
    "# Lowercase\n",
    "# Remove noise\n",
    "# Handle negation with a simple rule (e.g., flag sentences with “not”, “never”, etc.)\n",
    "\n",
    "# ✅ Import required libraries\n",
    "from transformers import pipeline\n",
    "\n",
    "# ✅ Load a pre-trained sentiment analysis pipeline\n",
    "classifier = pipeline(\"sentiment-analysis\")\n",
    "\n",
    "# ✅ Example product reviews (you can add more)\n",
    "reviews = [\n",
    "    \"Amazing quality!\",\n",
    "    \"Not good at all.\",\n",
    "    \"I absolutely love it!\",\n",
    "    \"This is terrible.\",\n",
    "    \"Not good, I expected better.\",\n",
    "    \"Awesome product and fast delivery!\"\n",
    "]\n",
    "\n",
    "# ✅ Simple text preprocessing function\n",
    "def preprocess(text):\n",
    "    txt = text.lower()\n",
    "    txt = txt.replace(\"not good\", \"bad\")\n",
    "    txt = txt.replace(\"expected better\", \"bad\")\n",
    "    return txt\n",
    "\n",
    "# ✅ Classify each review after preprocessing\n",
    "for r in reviews:\n",
    "    cleaned = preprocess(r)\n",
    "    result = classifier(cleaned)[0]\n",
    "    print(f\"{r} ➝ {result['label']} ({result['score']:.2f})\")\n",
    "\n"
   ]
  }
 ],
 "metadata": {
  "kernelspec": {
   "display_name": "Python 3",
   "language": "python",
   "name": "python3"
  },
  "language_info": {
   "codemirror_mode": {
    "name": "ipython",
    "version": 3
   },
   "file_extension": ".py",
   "mimetype": "text/x-python",
   "name": "python",
   "nbconvert_exporter": "python",
   "pygments_lexer": "ipython3",
   "version": "3.9.6"
  }
 },
 "nbformat": 4,
 "nbformat_minor": 5
}
