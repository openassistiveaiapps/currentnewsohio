{
 "cells": [
  {
   "cell_type": "code",
   "execution_count": 1,
   "id": "c9e06287",
   "metadata": {},
   "outputs": [],
   "source": [
    "!pip install torch scikit-learn --quiet"
   ]
  },
  {
   "cell_type": "code",
   "execution_count": 2,
   "id": "bd949b16",
   "metadata": {},
   "outputs": [
    {
     "name": "stdout",
     "output_type": "stream",
     "text": [
      "Final training loss: 0.0024\n",
      "Amazing quality! ➝ Positive (0.83)\n",
      "Not good at all. ➝ Negative (0.03)\n"
     ]
    }
   ],
   "source": [
    "# !pip install torch scikit-learn --quiet\n",
    "\n",
    "import torch\n",
    "import torch.nn as nn\n",
    "import torch.optim as optim\n",
    "from sklearn.feature_extraction.text import CountVectorizer\n",
    "import numpy as np\n",
    "\n",
    "# --- Data ---\n",
    "reviews = [\n",
    "    \"I love this product, it works perfectly!\",\n",
    "    \"Worst quality ever, very disappointed.\",\n",
    "    \"Absolutely amazing, exceeded my expectations!\",\n",
    "    \"This is terrible, don’t buy it.\",\n",
    "    \"Great quality and fast delivery!\",\n",
    "    \"Not worth the money at all.\"\n",
    "]\n",
    "labels = [1, 0, 1, 0, 1, 0]\n",
    "\n",
    "# --- Vectorize Text ---\n",
    "vectorizer = CountVectorizer()\n",
    "X = vectorizer.fit_transform(reviews).toarray()\n",
    "X_tensor = torch.tensor(X, dtype=torch.float32)\n",
    "y_tensor = torch.tensor(labels, dtype=torch.float32)\n",
    "\n",
    "# --- Model ---\n",
    "class SentimentNet(nn.Module):\n",
    "    def __init__(self, input_dim):\n",
    "        super().__init__()\n",
    "        self.fc = nn.Sequential(\n",
    "            nn.Linear(input_dim, 8),\n",
    "            nn.ReLU(),\n",
    "            nn.Linear(8, 1),\n",
    "            nn.Sigmoid()\n",
    "        )\n",
    "    def forward(self, x):\n",
    "        return self.fc(x)\n",
    "\n",
    "model = SentimentNet(X.shape[1])\n",
    "criterion = nn.BCELoss()\n",
    "optimizer = optim.Adam(model.parameters(), lr=0.01)\n",
    "\n",
    "# --- Train ---\n",
    "for epoch in range(100):\n",
    "    optimizer.zero_grad()\n",
    "    outputs = model(X_tensor).squeeze()\n",
    "    loss = criterion(outputs, y_tensor)\n",
    "    loss.backward()\n",
    "    optimizer.step()\n",
    "\n",
    "print(f\"Final training loss: {loss.item():.4f}\")\n",
    "\n",
    "# --- Predict ---\n",
    "test = [\"Amazing quality!\", \"Not good at all.\"]\n",
    "test_X = vectorizer.transform(test).toarray()\n",
    "test_tensor = torch.tensor(test_X, dtype=torch.float32)\n",
    "preds = model(test_tensor).detach().numpy()\n",
    "\n",
    "for t, p in zip(test, preds):\n",
    "    print(f\"{t} ➝ {'Positive' if p>0.5 else 'Negative'} ({p[0]:.2f})\")\n"
   ]
  },
  {
   "cell_type": "markdown",
   "id": "2477a1ba",
   "metadata": {},
   "source": [
    "# Bag-of-Words encodes text into numeric form.\n",
    "\n",
    "# Neural net predicts sentiment.\n",
    "\n",
    "# PyTorch gives full control — ideal for research."
   ]
  }
 ],
 "metadata": {
  "kernelspec": {
   "display_name": "Python 3",
   "language": "python",
   "name": "python3"
  },
  "language_info": {
   "codemirror_mode": {
    "name": "ipython",
    "version": 3
   },
   "file_extension": ".py",
   "mimetype": "text/x-python",
   "name": "python",
   "nbconvert_exporter": "python",
   "pygments_lexer": "ipython3",
   "version": "3.9.6"
  }
 },
 "nbformat": 4,
 "nbformat_minor": 5
}
