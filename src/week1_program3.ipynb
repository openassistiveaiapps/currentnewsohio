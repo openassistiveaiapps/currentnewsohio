{
 "cells": [
  {
   "cell_type": "code",
   "execution_count": 1,
   "id": "909a68a5",
   "metadata": {},
   "outputs": [
    {
     "name": "stdout",
     "output_type": "stream",
     "text": [
      "Test Data: [2 6]\n",
      "Predictions: [56.7 75.9]\n",
      "MSE: 3.649999999999993\n"
     ]
    }
   ],
   "source": [
    "# Week 1 - Program 3: Train/Test Split\n",
    "from sklearn.model_selection import train_test_split\n",
    "from sklearn.linear_model import LinearRegression\n",
    "from sklearn.metrics import mean_squared_error\n",
    "\n",
    "import numpy as np\n",
    "\n",
    "X = np.array([[1], [2], [3], [4], [5], [6], [7], [8]])\n",
    "y = np.array([52, 55, 61, 66, 72, 78, 81, 85])\n",
    "\n",
    "# Split data: 75% train, 25% test\n",
    "X_train, X_test, y_train, y_test = train_test_split(X, y, test_size=0.25, random_state=42)\n",
    "\n",
    "model = LinearRegression()\n",
    "model.fit(X_train, y_train)\n",
    "\n",
    "# Evaluate\n",
    "y_pred = model.predict(X_test)\n",
    "print(\"Test Data:\", X_test.flatten())\n",
    "print(\"Predictions:\", y_pred)\n",
    "print(\"MSE:\", mean_squared_error(y_test, y_pred))\n"
   ]
  }
 ],
 "metadata": {
  "kernelspec": {
   "display_name": "Python 3",
   "language": "python",
   "name": "python3"
  },
  "language_info": {
   "codemirror_mode": {
    "name": "ipython",
    "version": 3
   },
   "file_extension": ".py",
   "mimetype": "text/x-python",
   "name": "python",
   "nbconvert_exporter": "python",
   "pygments_lexer": "ipython3",
   "version": "3.9.6"
  }
 },
 "nbformat": 4,
 "nbformat_minor": 5
}
