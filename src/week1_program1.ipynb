{
 "cells": [
  {
   "cell_type": "code",
   "execution_count": null,
   "id": "b87613e5",
   "metadata": {},
   "outputs": [],
   "source": [
    "# Week 1 - Program 1: Linear Regression Example\n",
    "from sklearn.linear_model import LinearRegression\n",
    "import numpy as np\n",
    "import matplotlib.pyplot as plt\n",
    "\n",
    "# Features (Hours studied)\n",
    "X = np.array([[1], [2], [3], [4], [5], [6]])\n",
    "# Labels (Marks scored)\n",
    "y = np.array([52, 55, 61, 66, 72, 78])\n",
    "\n",
    "# Create the model\n",
    "model = LinearRegression()\n",
    "\n",
    "# Train (fit) the model\n",
    "model.fit(X, y)\n",
    "\n",
    "# Predict for a new student who studied 7 hours\n",
    "predicted = model.predict([[7]])\n",
    "print(\"Predicted Marks for 7 hours:\", predicted[0])\n",
    "\n",
    "# Visualization\n",
    "plt.scatter(X, y, color=\"blue\", label=\"Actual\")\n",
    "plt.plot(X, model.predict(X), color=\"red\", label=\"Best Fit Line\")\n",
    "plt.xlabel(\"Hours Studied\")\n",
    "plt.ylabel(\"Marks Scored\")\n",
    "plt.legend()\n",
    "plt.show()\n"
   ]
  }
 ],
 "metadata": {
  "language_info": {
   "name": "python"
  }
 },
 "nbformat": 4,
 "nbformat_minor": 5
}
