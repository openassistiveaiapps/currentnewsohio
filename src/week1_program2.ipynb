{
 "cells": [
  {
   "cell_type": "code",
   "execution_count": null,
   "id": "84c22cc5",
   "metadata": {},
   "outputs": [],
   "source": [
    "# Week 1 - Program 2: Pass/Fail Classifier\n",
    "from sklearn.linear_model import LogisticRegression\n",
    "import numpy as np\n",
    "\n",
    "# Study hours (feature)\n",
    "X = np.array([[1], [2], [3], [4], [5], [6], [7]])\n",
    "# 0 = Fail, 1 = Pass\n",
    "y = np.array([0, 0, 0, 1, 1, 1, 1])\n",
    "\n",
    "model = LogisticRegression()\n",
    "model.fit(X, y)\n",
    "\n",
    "# Predict for new students\n",
    "predictions = model.predict([[2], [4], [6]])\n",
    "print(\"Predictions (0=Fail, 1=Pass):\", predictions)\n"
   ]
  }
 ],
 "metadata": {
  "language_info": {
   "name": "python"
  }
 },
 "nbformat": 4,
 "nbformat_minor": 5
}
