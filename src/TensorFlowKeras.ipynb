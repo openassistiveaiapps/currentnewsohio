{
 "cells": [
  {
   "cell_type": "markdown",
   "id": "193230ec",
   "metadata": {},
   "source": [
    "# Same logic as PyTorch but less boilerplate.\n",
    "\n",
    "# Easier to train & deploy in production."
   ]
  },
  {
   "cell_type": "code",
   "execution_count": 1,
   "id": "5b98da17",
   "metadata": {},
   "outputs": [],
   "source": [
    "!pip install tensorflow scikit-learn --quiet"
   ]
  },
  {
   "cell_type": "code",
   "execution_count": null,
   "id": "9ccd9f61",
   "metadata": {},
   "outputs": [],
   "source": [
    "\n",
    "import tensorflow as tf\n",
    "from sklearn.feature_extraction.text import CountVectorizer\n",
    "import numpy as np\n",
    "\n",
    "# --- Data ---\n",
    "reviews = [\n",
    "    \"I love this product, it works perfectly!\",\n",
    "    \"Worst quality ever, very disappointed.\",\n",
    "    \"Absolutely amazing, exceeded my expectations!\",\n",
    "    \"This is terrible, don’t buy it.\",\n",
    "    \"Great quality and fast delivery!\",\n",
    "    \"Not worth the money at all.\"\n",
    "]\n",
    "labels = np.array([1, 0, 1, 0, 1, 0])\n",
    "\n",
    "# --- Vectorize ---\n",
    "vectorizer = CountVectorizer()\n",
    "X = vectorizer.fit_transform(reviews).toarray()\n",
    "\n",
    "# --- Model ---\n",
    "model = tf.keras.Sequential([\n",
    "    tf.keras.layers.Input(shape=(X.shape[1],)),\n",
    "    tf.keras.layers.Dense(8, activation='relu'),\n",
    "    tf.keras.layers.Dense(1, activation='sigmoid')\n",
    "])\n",
    "\n",
    "model.compile(optimizer='adam', loss='binary_crossentropy', metrics=['accuracy'])\n",
    "model.fit(X, labels, epochs=50, verbose=0)\n",
    "\n",
    "# --- Predict ---\n",
    "test = [\"Amazing quality!\", \"Not good at all.\"]\n",
    "test_X = vectorizer.transform(test).toarray()\n",
    "preds = model.predict(test_X)\n",
    "\n",
    "for t, p in zip(test, preds):\n",
    "    print(f\"{t} ➝ {'Positive' if p>0.5 else 'Negative'} ({p[0]:.2f})\")\n"
   ]
  }
 ],
 "metadata": {
  "kernelspec": {
   "display_name": "Python 3",
   "language": "python",
   "name": "python3"
  },
  "language_info": {
   "codemirror_mode": {
    "name": "ipython",
    "version": 3
   },
   "file_extension": ".py",
   "mimetype": "text/x-python",
   "name": "python",
   "nbconvert_exporter": "python",
   "pygments_lexer": "ipython3",
   "version": "3.9.6"
  }
 },
 "nbformat": 4,
 "nbformat_minor": 5
}
